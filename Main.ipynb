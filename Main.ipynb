{
 "cells": [
  {
   "cell_type": "code",
   "execution_count": 41,
   "id": "aa1a2184",
   "metadata": {},
   "outputs": [
    {
     "name": "stdout",
     "output_type": "stream",
     "text": [
      "8.2.0\n"
     ]
    }
   ],
   "source": [
    "import streamlit as st\n",
    "import tensorflow as tf\n",
    "import numpy as np\n",
    "import pandas as pd\n",
    "from tensorflow import keras\n",
    "import cv2\n",
    "import os\n",
    "from streamlit_cropper import st_cropper\n",
    "from PIL import Image\n",
    "NUMEXPR_MAX_THREADS=16\n",
    "\n",
    "from matplotlib import pyplot as plt\n",
    "\n",
    "# https://stackoverflow.com/questions/14134892/convert-image-from-pil-to-opencv-format\n",
    "# pil_image = PIL.Image.open('Image.jpg').convert('RGB') \n",
    "# open_cv_image = numpy.array(pil_image) \n",
    "# # Convert RGB to BGR \n",
    "# open_cv_image = open_cv_image[:, :, ::-1].copy() "
   ]
  },
  {
   "cell_type": "code",
   "execution_count": 266,
   "id": "e3a2e793",
   "metadata": {},
   "outputs": [
    {
     "name": "stdout",
     "output_type": "stream",
     "text": [
      "[[[188 191 196]\n",
      "  [189 192 197]\n",
      "  [189 192 197]\n",
      "  ...\n",
      "  [189 199 208]\n",
      "  [190 200 209]\n",
      "  [190 200 209]]\n",
      "\n",
      " [[187 190 195]\n",
      "  [188 191 196]\n",
      "  [188 191 196]\n",
      "  ...\n",
      "  [191 200 209]\n",
      "  [192 201 210]\n",
      "  [195 204 213]]\n",
      "\n",
      " [[187 190 195]\n",
      "  [189 192 197]\n",
      "  [188 191 196]\n",
      "  ...\n",
      "  [191 200 207]\n",
      "  [192 201 208]\n",
      "  [194 203 210]]\n",
      "\n",
      " ...\n",
      "\n",
      " [[225 226 208]\n",
      "  [225 226 208]\n",
      "  [225 226 208]\n",
      "  ...\n",
      "  [119 132 140]\n",
      "  [ 24  37  45]\n",
      "  [114 121 129]]\n",
      "\n",
      " [[227 226 208]\n",
      "  [227 226 208]\n",
      "  [227 226 208]\n",
      "  ...\n",
      "  [133 144 150]\n",
      "  [ 41  52  58]\n",
      "  [ 32  39  47]]\n",
      "\n",
      " [[227 226 208]\n",
      "  [227 226 208]\n",
      "  [227 226 208]\n",
      "  ...\n",
      "  [104 113 118]\n",
      "  [ 98 107 112]\n",
      "  [ 34  41  49]]]\n"
     ]
    },
    {
     "data": {
      "image/png": "[encoded data removed]",
      "text/plain": [
       "<Figure size 640x480 with 1 Axes>"
      ]
     },
     "metadata": {},
     "output_type": "display_data"
    }
   ],
   "source": [
    "def show_img(img):\n",
    "    plt.imshow(img), plt.xticks([]), plt.yticks([])\n",
    "    plt.show()"
   ]
  },
  {
   "cell_type": "code",
   "execution_count": null,
   "id": "4496fc2c",
   "metadata": {},
   "outputs": [],
   "source": [
    "# https://towardsdatascience.com/face-detection-in-2-minutes-using-opencv-python-90f89d7c0f81\n",
    "def get_heads(img):\n",
    "    heads = []\n",
    "    face_cascade = cv2.CascadeClassifier(cv2.data.haarcascades + 'haarcascade_frontalface_alt.xml')\n",
    "    # Convert into grayscale\n",
    "    gray = cv2.cvtColor(img, cv2.COLOR_BGR2GRAY)\n",
    "    # Detect faces\n",
    "    faces = face_cascade.detectMultiScale(gray, 1.1, 4)\n",
    "    # Draw rectangle around the faces\n",
    "    for (x, y, w, h) in faces:\n",
    "        size = 0\n",
    "        if (w > h):\n",
    "            size = w\n",
    "        else:\n",
    "            size = h\n",
    "        newx = int(x-(w*0.1))\n",
    "        neww = int(w*1.2)\n",
    "        newy = int(y-(h*0.3))\n",
    "        newh = int(h*1.4)\n",
    "#         cv2.rectangle(img, (newx, newy), (newx+neww, newy+newh), (255, 0, 0), 2)\n",
    "#         cv2.rectangle(img, (x, y), (x+w, y+h), (255, 0, 0), 2)\n",
    "        heads.append(img[\n",
    "            int(newy):int(newy+newh),\n",
    "            int(newx):int(newx+neww) \n",
    "        ])\n",
    "    return heads"
   ]
  },
  {
   "cell_type": "code",
   "execution_count": null,
   "id": "54c4da1f",
   "metadata": {},
   "outputs": [],
   "source": [
    "# https://docs.streamlit.io/library/advanced-features/session-state\n",
    "if 'img' not in st.session_state:\n",
    "    st.session_state.img = []\n",
    "    \n",
    "if 'heads' not in st.session_state:\n",
    "    st.session_state.heads = []\n",
    "    \n",
    "if 'headsbool' not in st.session_state:\n",
    "    st.session_state.headsbool = []"
   ]
  },
  {
   "cell_type": "code",
   "execution_count": null,
   "id": "c342e0af",
   "metadata": {},
   "outputs": [],
   "source": [
    "progress = st.sidebar.radio(\"Progress\",('Upload Image', 'Process Image', 'Result'))"
   ]
  },
  {
   "cell_type": "code",
   "execution_count": null,
   "id": "0babc281",
   "metadata": {},
   "outputs": [],
   "source": [
    "if(progress == 'Upload Image'):\n",
    "    st.title(\"Upload Image\")\n",
    "    uploadmethod = st.radio(\"Way to upload\",('Upload Image', 'With Camera'))\n",
    "    if(uploadmethod == 'Upload Image'):\n",
    "        file = st.file_uploader(label='Upload file', type=['png', 'jpg'])\n",
    "        if (file):\n",
    "            image = Image.open(file)\n",
    "            img_array = np.array(image)\n",
    "            st.session_state.img = img_array\n",
    "        \n",
    "    if(uploadmethod == 'With Camera'):\n",
    "        run = True\n",
    "        placeholder = st.empty()\n",
    "        FRAME_WINDOW = st.image([])\n",
    "        camera = cv2.VideoCapture(0)\n",
    "\n",
    "        frame = camera.read()\n",
    "        if placeholder.button('Take Picture'):\n",
    "            st.session_state.img = cv2.cvtColor(frame[1], cv2.COLOR_BGR2RGB)\n",
    "            placeholder.empty()\n",
    "            run = False\n",
    "        while run:\n",
    "            _, frame = camera.read()\n",
    "            frame = cv2.cvtColor(frame, cv2.COLOR_BGR2RGB)\n",
    "            FRAME_WINDOW.image(frame)\n",
    "        if (len(img) != 0):\n",
    "            retakebtn = st.button(\"Retake\")\n",
    "            if retakebtn:\n",
    "                run =True\n",
    "                st.session_state.img = []\n",
    "\n",
    "    if (len(st.session_state.img) != 0):\n",
    "        st.write(\"Click “Process Image” radio button on the side bar when the image is uploaded\")\n",
    "        st.image(st.session_state.img)\n",
    "        \n",
    "        st.session_state.heads = get_heads(st.session_state.img)\n",
    "        for i in range(len(get_heads(st.session_state.img))):\n",
    "            st.session_state.headsbool.append(True)"
   ]
  },
  {
   "cell_type": "code",
   "execution_count": null,
   "id": "2c608c34",
   "metadata": {},
   "outputs": [],
   "source": [
    "if(progress == 'Process Image'):\n",
    "    st.title(\"Process Image\")\n",
    "    if (len(st.session_state.img) == 0):\n",
    "        st.error('No Image choosed')\n",
    "    else:\n",
    "        st.write(\"Number of face detected:\", len(st.session_state.heads))\n",
    "        st.write(\"detected face have been load to choosed image\")\n",
    "        \n",
    "        box_color = st.color_picker(label=\"Box Color\", value='#0000FF')\n",
    "        img = Image.fromarray(st.session_state.img)\n",
    "        # Get a cropped image from the frontend\n",
    "        cropped_img = st_cropper(img, realtime_update=True, box_color=box_color,\n",
    "                                    aspect_ratio=(1,1))\n",
    "        savebtn = st.button(\"save\")\n",
    "        if savebtn:\n",
    "            st.session_state.heads.append(cv2.cvtColor(np.array(cropped_img)[:, :, ::-1].copy(), cv2.COLOR_RGB2BGR))\n",
    "            st.session_state.headsbool.append(True)\n",
    "        # Manipulate cropped image at will\n",
    "        st.header(\"Preview\")\n",
    "        _ = cropped_img.thumbnail((150,150))\n",
    "        st.image(cropped_img)\n",
    "        \n",
    "        st.header(\"Choosed head\")\n",
    "        for i in range(len(st.session_state.heads)):\n",
    "            if (st.session_state.headsbool[i] == True):\n",
    "                placeholder = st.empty()\n",
    "                col1, col2, col3 = placeholder.columns(3)\n",
    "                with col1:\n",
    "                    st.image(st.session_state.heads[i])\n",
    "                with col2:\n",
    "                    if st.button(\"Delete\",key = \"Delete_\"+str(i)):\n",
    "                        placeholder.empty()\n",
    "                        st.session_state.headsbool[i] = False"
   ]
  },
  {
   "cell_type": "code",
   "execution_count": 29,
   "id": "0c1e45bc",
   "metadata": {},
   "outputs": [
    {
     "ename": "NameError",
     "evalue": "name 'progress' is not defined",
     "output_type": "error",
     "traceback": [
      "\u001b[1;31m---------------------------------------------------------------------------\u001b[0m",
      "\u001b[1;31mNameError\u001b[0m                                 Traceback (most recent call last)",
      "\u001b[1;32m<ipython-input-29-a2e579284f37>\u001b[0m in \u001b[0;36m<module>\u001b[1;34m\u001b[0m\n\u001b[1;32m----> 1\u001b[1;33m \u001b[1;32mif\u001b[0m\u001b[1;33m(\u001b[0m\u001b[0mprogress\u001b[0m \u001b[1;33m==\u001b[0m \u001b[1;34m'Result'\u001b[0m\u001b[1;33m)\u001b[0m\u001b[1;33m:\u001b[0m\u001b[1;33m\u001b[0m\u001b[1;33m\u001b[0m\u001b[0m\n\u001b[0m\u001b[0;32m      2\u001b[0m     \u001b[0mst\u001b[0m\u001b[1;33m.\u001b[0m\u001b[0mtitle\u001b[0m\u001b[1;33m(\u001b[0m\u001b[1;34m\"Result\"\u001b[0m\u001b[1;33m)\u001b[0m\u001b[1;33m\u001b[0m\u001b[1;33m\u001b[0m\u001b[0m\n\u001b[0;32m      3\u001b[0m     \u001b[1;32mif\u001b[0m \u001b[1;33m(\u001b[0m\u001b[0mlen\u001b[0m\u001b[1;33m(\u001b[0m\u001b[0mst\u001b[0m\u001b[1;33m.\u001b[0m\u001b[0msession_state\u001b[0m\u001b[1;33m.\u001b[0m\u001b[0mimg\u001b[0m\u001b[1;33m)\u001b[0m \u001b[1;33m==\u001b[0m \u001b[1;36m0\u001b[0m\u001b[1;33m)\u001b[0m\u001b[1;33m:\u001b[0m\u001b[1;33m\u001b[0m\u001b[1;33m\u001b[0m\u001b[0m\n\u001b[0;32m      4\u001b[0m         \u001b[0mst\u001b[0m\u001b[1;33m.\u001b[0m\u001b[0merror\u001b[0m\u001b[1;33m(\u001b[0m\u001b[1;34m'No Image choosed'\u001b[0m\u001b[1;33m)\u001b[0m\u001b[1;33m\u001b[0m\u001b[1;33m\u001b[0m\u001b[0m\n\u001b[0;32m      5\u001b[0m     \u001b[1;32mif\u001b[0m \u001b[1;33m(\u001b[0m\u001b[0mnp\u001b[0m\u001b[1;33m.\u001b[0m\u001b[0mcount_nonzero\u001b[0m\u001b[1;33m(\u001b[0m\u001b[0mst\u001b[0m\u001b[1;33m.\u001b[0m\u001b[0msession_state\u001b[0m\u001b[1;33m.\u001b[0m\u001b[0mheadsbool\u001b[0m\u001b[1;33m)\u001b[0m \u001b[1;33m==\u001b[0m \u001b[1;36m0\u001b[0m\u001b[1;33m)\u001b[0m\u001b[1;33m:\u001b[0m\u001b[1;33m\u001b[0m\u001b[1;33m\u001b[0m\u001b[0m\n",
      "\u001b[1;31mNameError\u001b[0m: name 'progress' is not defined"
     ]
    }
   ],
   "source": [
    "if(progress == 'Result'):\n",
    "    st.title(\"Result\")\n",
    "    if (len(st.session_state.img) == 0):\n",
    "        st.error('No Image choosed')\n",
    "    if (np.count_nonzero(st.session_state.headsbool) == 0):\n",
    "        st.error('Picture not processed and cannot detect face by CascadeClassifier')\n",
    "    else:\n",
    "        st.image(st.session_state.img)\n",
    "        os.path.exists('./model/AgeDetection/Freeze/AgePrediction.h5')\n",
    "        age_model = tf.keras.models.load_model('./model/AgeDetection/Freeze/Freeze_BestModelAge.h5')\n",
    "        labels_age = {0: 'Adolescence', 1: 'Adult',2:'Child',3:'Senior Citizen'}\n",
    "        gender_model = tf.keras.models.load_model('./model/GenderDetection/Freeze/GenderPrediction.h5')\n",
    "        labels_gender = {0: 'Female', 1: 'Male'}\n",
    "        for i in range(len(st.session_state.heads)):\n",
    "            if (st.session_state.headsbool[i] == True):\n",
    "                col1, col2 = st.columns([1, 2])\n",
    "                img = st.session_state.heads[i]\n",
    "                img = img/255\n",
    "                resized = cv2.resize(img, (80,80))\n",
    "                reshaped = resized.reshape(1,80, 80,3)\n",
    "                \n",
    "                predictions = age_model.predict(reshaped)\n",
    "                predicted_class = np.argmax(predictions,axis=1).item(0)\n",
    "                age_predicted_label = labels_age[predicted_class]\n",
    "                age_df = pd.DataFrame(predictions, columns=[labels_age[key] for key in labels_age])\n",
    "                \n",
    "                predictions = gender_model.predict(reshaped)\n",
    "                predicted_class = np.argmax(predictions,axis=1).item(0)\n",
    "                gender_predicted_label = labels_gender[predicted_class]\n",
    "                gender_df = pd.DataFrame(predictions, columns=[labels_gender[key] for key in labels_gender])\n",
    "                with col1:\n",
    "                    st.image(st.session_state.heads[i])\n",
    "                with col2:\n",
    "#                     st.write(age_predicted_label)\n",
    "                    with st.expander(age_predicted_label):\n",
    "                        st.write(age_df)\n",
    "                    with st.expander(gender_predicted_label):\n",
    "                        st.write(gender_df)\n",
    "#                     st.write(gender_predicted_label)"
   ]
  },
  {
   "cell_type": "code",
   "execution_count": 31,
   "id": "e4bf2714",
   "metadata": {
    "tags": [
     "remove_cell"
    ]
   },
   "outputs": [
    {
     "name": "stderr",
     "output_type": "stream",
     "text": [
      "C:\\Users\\wangl\\anaconda3\\lib\\site-packages\\traitlets\\traitlets.py:2196: FutureWarning: Supporting extra quotes around Unicode is deprecated in traitlets 5.0. Use 'remove_cell' instead of \"'remove_cell'\" – or use CUnicode.\n",
      "  warn(\n",
      "[NbConvertApp] Converting notebook Main.ipynb to script\n",
      "[NbConvertApp] Writing 7145 bytes to Main.py\n"
     ]
    }
   ],
   "source": [
    "# before use streamlit:\n",
    "# conda install -c conda-forge nbconvert\n",
    "# run this cell (for convert ipynb to py)\n",
    "    # run this cmd in anaconda powershell prompt streamlit run .\\Main.py (remember change path to this file's location)\n",
    "!jupyter nbconvert Main.ipynb --to script --TagRemovePreprocessor.enabled=True --ClearMetadataPreprocessor.enabled=True -TagRemovePreprocessor.remove_cell_tags='{\"remove_cell\"}'\n",
    "\n",
    "# !heroku create\n",
    "# git init\n",
    "# git add .\n",
    "# git commit -m \"initial commit\"\n",
    "# heroku create\n",
    "# git push heroku master"
   ]
  }
 ],
 "metadata": {
  "celltoolbar": "Tags",
  "kernelspec": {
   "display_name": "Python 3",
   "language": "python",
   "name": "python3"
  },
  "language_info": {
   "codemirror_mode": {
    "name": "ipython",
    "version": 3
   },
   "file_extension": ".py",
   "mimetype": "text/x-python",
   "name": "python",
   "nbconvert_exporter": "python",
   "pygments_lexer": "ipython3",
   "version": "3.8.8"
  }
 },
 "nbformat": 4,
 "nbformat_minor": 5
}
